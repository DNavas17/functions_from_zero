{
  "nbformat": 4,
  "nbformat_minor": 0,
  "metadata": {
    "colab": {
      "provenance": [],
      "authorship_tag": "ABX9TyMCg+5xvKPHRnozhta8wV8J",
      "include_colab_link": true
    },
    "kernelspec": {
      "name": "python3",
      "display_name": "Python 3"
    },
    "language_info": {
      "name": "python"
    }
  },
  "cells": [
    {
      "cell_type": "markdown",
      "metadata": {
        "id": "view-in-github",
        "colab_type": "text"
      },
      "source": [
        "<a href=\"https://colab.research.google.com/github/DNavas17/functions_from_zero/blob/main/Statements.ipynb\" target=\"_parent\"><img src=\"https://colab.research.google.com/assets/colab-badge.svg\" alt=\"Open In Colab\"/></a>"
      ]
    },
    {
      "cell_type": "markdown",
      "source": [
        "##Learning Statements\n"
      ],
      "metadata": {
        "id": "WG1ZNv8gDO6x"
      }
    },
    {
      "cell_type": "code",
      "execution_count": 2,
      "metadata": {
        "colab": {
          "base_uri": "https://localhost:8080/"
        },
        "id": "mdYQq50XDBDD",
        "outputId": "4e38a544-72af-4581-d536-e8fc30250dc2"
      },
      "outputs": [
        {
          "output_type": "stream",
          "name": "stdout",
          "text": [
            "Hello world\n"
          ]
        }
      ],
      "source": [
        "\n",
        "print(\"Hello world\")"
      ]
    },
    {
      "cell_type": "code",
      "source": [
        "variable = 1\n"
      ],
      "metadata": {
        "id": "PiX_v2PhDakQ"
      },
      "execution_count": null,
      "outputs": []
    },
    {
      "cell_type": "code",
      "source": [],
      "metadata": {
        "id": "P2l41YNGDpsT"
      },
      "execution_count": null,
      "outputs": []
    }
  ]
}